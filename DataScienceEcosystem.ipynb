{
 "cells": [
  {
   "cell_type": "markdown",
   "id": "cf6bdc83-b95b-456b-9d77-e43d7e997b39",
   "metadata": {},
   "source": [
    "# Data Science Tools and Ecosystem"
   ]
  },
  {
   "cell_type": "markdown",
   "id": "2bda954b-cca5-4157-9778-301cef7e129b",
   "metadata": {},
   "source": [
    "### In this notebook, Data Science Tools and Ecosystem are summarized."
   ]
  },
  {
   "cell_type": "markdown",
   "id": "64bbd9f4-51e1-4c1b-80d9-da63edae160f",
   "metadata": {},
   "source": [
    "#### Some of the popular languages that Data Scientistis use are:\n",
    "1. Python\n",
    "2. R\n",
    "3. SQL \n"
   ]
  },
  {
   "cell_type": "markdown",
   "id": "dd3c2910-c959-4afc-9606-8d1a75483a94",
   "metadata": {},
   "source": [
    "**Obectives:**\n",
    "* Identify the users and benefits of Python\n",
    "* Describe data sets and sources of data\n",
    "* Identify tools in Anaconda Jupyter environments\n",
    "* Describe R capabilities and RStudio environment\n",
    "* Explain version control and describe the Git and GitHub environment"
   ]
  },
  {
   "cell_type": "markdown",
   "id": "d945ef76-6109-41c4-b968-0f5ab6e8d455",
   "metadata": {},
   "source": [
    "#### Some of the commonly used libraries used by Data Scientists include:\n",
    "1. NumPy\n",
    "2. Pandas\n",
    "3. Scikit "
   ]
  },
  {
   "cell_type": "markdown",
   "id": "a66d6d36-e33d-4f83-80c2-4d5f737ed417",
   "metadata": {
    "jp-MarkdownHeadingCollapsed": true
   },
   "source": [
    "| Data Science Tools |\n",
    "|---------------------|\n",
    "| Jupyter Notebook |\n",
    "| Rstudio | \n",
    "| Zeppelin Notebook |"
   ]
  },
  {
   "cell_type": "markdown",
   "id": "009df1f7-300f-4564-b0cb-87f77201e38c",
   "metadata": {},
   "source": [
    "### Below are a few examples of evaluating arithmetic  expressions in Python\n",
    "1+1, 2-2, 3*3"
   ]
  },
  {
   "cell_type": "code",
   "execution_count": 25,
   "id": "e3deffff-7baf-4acb-ae23-2818e1214860",
   "metadata": {},
   "outputs": [
    {
     "data": {
      "text/plain": [
       "17"
      ]
     },
     "execution_count": 25,
     "metadata": {},
     "output_type": "execute_result"
    }
   ],
   "source": [
    "# This a simple arithmetic expression to mutiply then add integers\n",
    "(3*4)+5 "
   ]
  },
  {
   "cell_type": "code",
   "execution_count": 27,
   "id": "ef3acf90-8e1f-4e2d-a5f7-53ffc2a7ba23",
   "metadata": {},
   "outputs": [
    {
     "data": {
      "text/plain": [
       "3.3333333333333335"
      ]
     },
     "execution_count": 27,
     "metadata": {},
     "output_type": "execute_result"
    }
   ],
   "source": [
    "# This will convert 200 minutes to hours by diving by 60\n",
    "200/60"
   ]
  },
  {
   "cell_type": "markdown",
   "id": "dda10b01-e97c-489b-bf74-20730194c7b7",
   "metadata": {},
   "source": [
    "## Author \n",
    "Rubem Miranda"
   ]
  },
  {
   "cell_type": "code",
   "execution_count": null,
   "id": "4abbac00-62f2-4650-a54c-588be41c1852",
   "metadata": {},
   "outputs": [],
   "source": []
  }
 ],
 "metadata": {
  "kernelspec": {
   "display_name": "Python [conda env:base] *",
   "language": "python",
   "name": "conda-base-py"
  },
  "language_info": {
   "codemirror_mode": {
    "name": "ipython",
    "version": 3
   },
   "file_extension": ".py",
   "mimetype": "text/x-python",
   "name": "python",
   "nbconvert_exporter": "python",
   "pygments_lexer": "ipython3",
   "version": "3.12.7"
  }
 },
 "nbformat": 4,
 "nbformat_minor": 5
}
